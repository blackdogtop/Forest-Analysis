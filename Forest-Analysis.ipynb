{
 "cells": [
  {
   "cell_type": "code",
   "execution_count": 259,
   "metadata": {},
   "outputs": [],
   "source": [
    "import pandas as pd\n",
    "import time\n",
    "import datetime\n",
    "from datetime import datetime as dt\n",
    "from datetime import date, timedelta\n",
    "import matplotlib.pyplot as plt\n",
    "import numpy as np\n",
    "from dateutil.parser import parse"
   ]
  },
  {
   "cell_type": "code",
   "execution_count": 290,
   "metadata": {},
   "outputs": [],
   "source": [
    "filePath = './Plants_of_me.csv'  # repalce with your own file path"
   ]
  },
  {
   "cell_type": "code",
   "execution_count": 291,
   "metadata": {},
   "outputs": [
    {
     "data": {
      "text/html": [
       "<div>\n",
       "<style scoped>\n",
       "    .dataframe tbody tr th:only-of-type {\n",
       "        vertical-align: middle;\n",
       "    }\n",
       "\n",
       "    .dataframe tbody tr th {\n",
       "        vertical-align: top;\n",
       "    }\n",
       "\n",
       "    .dataframe thead th {\n",
       "        text-align: right;\n",
       "    }\n",
       "</style>\n",
       "<table border=\"1\" class=\"dataframe\">\n",
       "  <thead>\n",
       "    <tr style=\"text-align: right;\">\n",
       "      <th></th>\n",
       "      <th>Start Time</th>\n",
       "      <th>End Time</th>\n",
       "      <th>Tag</th>\n",
       "      <th>Note</th>\n",
       "      <th>Tree Type</th>\n",
       "      <th>Is Success</th>\n",
       "    </tr>\n",
       "  </thead>\n",
       "  <tbody>\n",
       "    <tr>\n",
       "      <td>0</td>\n",
       "      <td>2019-01-13T10:43:26.000+0800</td>\n",
       "      <td>2019-01-13T11:57:41.000+0800</td>\n",
       "      <td>未设定</td>\n",
       "      <td>NaN</td>\n",
       "      <td>雪松</td>\n",
       "      <td>True</td>\n",
       "    </tr>\n",
       "    <tr>\n",
       "      <td>1</td>\n",
       "      <td>2019-01-13T13:00:31.000+0800</td>\n",
       "      <td>2019-01-13T14:11:13.000+0800</td>\n",
       "      <td>未设定</td>\n",
       "      <td>NaN</td>\n",
       "      <td>雪松</td>\n",
       "      <td>True</td>\n",
       "    </tr>\n",
       "    <tr>\n",
       "      <td>2</td>\n",
       "      <td>2019-01-13T14:21:06.000+0800</td>\n",
       "      <td>2019-01-13T15:31:12.000+0800</td>\n",
       "      <td>未设定</td>\n",
       "      <td>NaN</td>\n",
       "      <td>雪松</td>\n",
       "      <td>True</td>\n",
       "    </tr>\n",
       "    <tr>\n",
       "      <td>3</td>\n",
       "      <td>2019-01-13T15:45:21.000+0800</td>\n",
       "      <td>2019-01-13T16:48:00.000+0800</td>\n",
       "      <td>未设定</td>\n",
       "      <td>NaN</td>\n",
       "      <td>雪松</td>\n",
       "      <td>False</td>\n",
       "    </tr>\n",
       "    <tr>\n",
       "      <td>4</td>\n",
       "      <td>2019-01-13T18:00:23.000+0800</td>\n",
       "      <td>2019-01-13T19:00:58.000+0800</td>\n",
       "      <td>未设定</td>\n",
       "      <td>NaN</td>\n",
       "      <td>雪松</td>\n",
       "      <td>False</td>\n",
       "    </tr>\n",
       "  </tbody>\n",
       "</table>\n",
       "</div>"
      ],
      "text/plain": [
       "                     Start Time                      End Time  Tag  Note  \\\n",
       "0  2019-01-13T10:43:26.000+0800  2019-01-13T11:57:41.000+0800  未设定   NaN   \n",
       "1  2019-01-13T13:00:31.000+0800  2019-01-13T14:11:13.000+0800  未设定   NaN   \n",
       "2  2019-01-13T14:21:06.000+0800  2019-01-13T15:31:12.000+0800  未设定   NaN   \n",
       "3  2019-01-13T15:45:21.000+0800  2019-01-13T16:48:00.000+0800  未设定   NaN   \n",
       "4  2019-01-13T18:00:23.000+0800  2019-01-13T19:00:58.000+0800  未设定   NaN   \n",
       "\n",
       "  Tree Type  Is Success  \n",
       "0        雪松        True  \n",
       "1        雪松        True  \n",
       "2        雪松        True  \n",
       "3        雪松       False  \n",
       "4        雪松       False  "
      ]
     },
     "execution_count": 291,
     "metadata": {},
     "output_type": "execute_result"
    }
   ],
   "source": [
    "def getMetaData(filePath):\n",
    "    \"\"\"transfer csv mate data to dataframe\"\"\"\n",
    "    df = pd.read_csv(filePath)\n",
    "    return df\n",
    "\n",
    "df = getMetaData(filePath)\n",
    "df.head(5)"
   ]
  },
  {
   "cell_type": "code",
   "execution_count": 292,
   "metadata": {},
   "outputs": [],
   "source": [
    "class Time:\n",
    "    localTime = time.strftime(\"%Y-%m-%d %H:%M:%S\", time.localtime())  # YYYY-MM-DD hh:mm:ss\n",
    "    localDate = localTime.split()[0]  # YYYY-MM-DD\n",
    "    periodDict = {'week': 7, 'month': 30, 'quarter': 90, 'half a year': 180, 'year': 365}\n",
    "    \n",
    "    \n",
    "    def getDateList(self, startDate: str, endDate: str) -> list:\n",
    "        \"\"\"get the date list between start date and end date\"\"\"\n",
    "        dateList = [dt.strftime(x, '%Y-%m-%d') for x in list(pd.date_range(startDate, endDate))]\n",
    "        return dateList\n",
    "    \n",
    "    \n",
    "    def getPastDate(self, N: int):\n",
    "        \"\"\"Get the date before N days (base on today)\"\"\"\n",
    "        pastDate = date.today() - timedelta(days = N)\n",
    "        pastDate.strftime('%Y-%m-%d')  # 格式化日期\n",
    "        return pastDate\n",
    "    \n",
    "    \n",
    "    def getNearDate(self, date: str, previous=True):\n",
    "        \"\"\"\n",
    "        Get previous/next date zero O'clock e.g. 2020-05-01 00:00:00\n",
    "        :params \n",
    "            date: a str with YYYY-MM-DD format\n",
    "            previous: a bool type param which can judge is previous or next day\n",
    "        \"\"\"\n",
    "        return parse(date) - datetime.timedelta(days=1) if previous else parse(date) + datetime.timedelta(days=1)\n",
    "    \n",
    "    \n",
    "    def getTimeInterval(self, t1: str, t2: str):\n",
    "        \"\"\"\n",
    "        Get time interval in second / hour\n",
    "        :params\n",
    "            t1 t2: a str with format YYYY-MM-DDThh:mm:ss, which T is delimiter (e.g. 2019-01-14T08:00:38)\n",
    "                   t1 is the previous time point, t2 is the later time point \n",
    "        \"\"\"\n",
    "        t1, t2 = parse(t1), parse(t2)\n",
    "        return int((t2-t1).total_seconds())\n",
    "\n",
    "    \n",
    "    def second2hour(self, second):\n",
    "        \"\"\"\n",
    "        Transfer seconds to hours with format '9.50' hours\n",
    "        ref:\n",
    "            https://stackoverflow.com/questions/775049/how-do-i-convert-seconds-to-hours-minutes-and-seconds\n",
    "        :params second: nums\n",
    "        :return floatHours: float format hour \n",
    "        \"\"\"\n",
    "        HMS = str(datetime.timedelta(seconds=second))\n",
    "        hours, minutes = HMS.split(':')[0], HMS.split(':')[1]\n",
    "        floatHours = float(hours + '.' + minutes)\n",
    "        return round(floatHours, 2)  # two decimal places"
   ]
  },
  {
   "cell_type": "code",
   "execution_count": 313,
   "metadata": {},
   "outputs": [],
   "source": [
    "class Chart:\n",
    "    def pltChart(self, dates: list, values: list, chartType='line', xLabel='Date', yLabel=None, title=None):\n",
    "        \"\"\"\n",
    "        Plot line/bar chart\n",
    "        params:\n",
    "            dates: a list of date with format YYYY-MM-DD\n",
    "            values: a list of values depends on what content want to plot\n",
    "            xLabel: x-corrdinate label\n",
    "            yLabel: y-corrdinate label\n",
    "            title: the line chart title\n",
    "            chartType: (str) line OR bar\n",
    "        \"\"\"\n",
    "        if len(dates[0].split('-')) > 2:\n",
    "            dates = [''.join(day.split('-')[1:]) for day in dates]  # re-format YYYY-MM-DD to MMDD \n",
    "\n",
    "        X, Y = dates, values\n",
    "        plt.figure(figsize=(15,10))  # TODO: auto size\n",
    "        plt.plot(X, Y) if chartType == 'line' else plt.bar(X, Y)\n",
    "        plt.title(title)\n",
    "        plt.xlabel(xLabel)\n",
    "        plt.ylabel(yLabel)"
   ]
  },
  {
   "cell_type": "code",
   "execution_count": 315,
   "metadata": {},
   "outputs": [
    {
     "name": "stdout",
     "output_type": "stream",
     "text": [
      "Input a time of period (Input month with ENTER)\n",
      "ONLY week / month / quarter / half a year / year ARE SUPPORTED: \n"
     ]
    },
    {
     "data": {
      "image/png": "[encoded data removed]",
      "text/plain": [
       "<Figure size 1080x720 with 1 Axes>"
      ]
     },
     "metadata": {
      "needs_background": "light"
     },
     "output_type": "display_data"
    },
    {
     "data": {
      "image/png": "[encoded data removed]",
      "text/plain": [
       "<Figure size 1080x720 with 1 Axes>"
      ]
     },
     "metadata": {
      "needs_background": "light"
     },
     "output_type": "display_data"
    }
   ],
   "source": [
    "class SuccessAnalysis:\n",
    "    def __init__(self, df):\n",
    "        self.df = df\n",
    "    \n",
    "    \n",
    "    def successInDay(self, date=Time.localDate, showResult=False):\n",
    "        \"\"\"\n",
    "        success number / rate in a sepcific day\n",
    "        :params \n",
    "            date: a date with format YYYY-MM-DD, nowtime as default input\n",
    "            showResult: (bool) whether print result\n",
    "        :return \n",
    "            countTree: (int) the number of trees in the day\n",
    "            len(dfSuccessTree): (int) the number of successful trees in the day\n",
    "            successRate: (float) success rate in the day\n",
    "        \"\"\"\n",
    "#         date = input('Input the date in format YYYY-MM-DD (Input Today with ENTER ): ') or Time.localDate\n",
    "        boolInDate = self.df['Start Time'].str.contains(date)  # transfer to bool\n",
    "        dfInDate = self.df[boolInDate]  # get all row meet the date condition\n",
    "        \n",
    "        try:\n",
    "            countTree = len(dfInDate)  # eligible tree number in total\n",
    "            dfSuccessTree = dfInDate.loc[dfInDate['Is Success'] == True]  # successed tree df\n",
    "            successRate = round((len(dfSuccessTree) / countTree) * 100, 2)  # success rate\n",
    "        \n",
    "        except ZeroDivisionError:\n",
    "            successRate = None\n",
    "            if showResult:\n",
    "                print('You do not have a tree in {}'.format(date), end = '\\n\\n')\n",
    "        \n",
    "        else:\n",
    "            if showResult:\n",
    "                print('In {}, there are {} trees, {} of which are successful, the success rate is {}%'\n",
    "                      .format(date, countTree, len(dfSuccessTree), successRate), end = '\\n\\n')\n",
    "            pass\n",
    "        return countTree, len(dfSuccessTree), successRate if successRate else 0.0  # assign 0 for the day does not have a tree\n",
    "    \n",
    "    \n",
    "    def successInTimePeriod(self):\n",
    "        \"\"\"success number / rate in a time of period\"\"\"\n",
    "        timePeriod = input(\n",
    "            'Input a time of period (Input month with ENTER)\\n'\n",
    "            'ONLY week / month / quarter / half a year / year ARE SUPPORTED: ').strip() or 'month'  # week as default\n",
    "        if timePeriod not in Time.periodDict.keys(): \n",
    "            raise NameError ('The Input Name Is Error, Please Input Again.')\n",
    "        \n",
    "        periodInDays = Time.periodDict[timePeriod]\n",
    "        t = Time()\n",
    "        pastDate = t.getPastDate(periodInDays)\n",
    "        dateList = t.getDateList(pastDate, Time.localDate)\n",
    "        # get cusscessful rate list correspond to dateList\n",
    "        successRateList = [self.successInDay(d)[-1] for d in dateList]\n",
    "        return dateList, successRateList    \n",
    "\n",
    "    \n",
    "    def aveSucRate(self, days: list):\n",
    "        \"\"\"\n",
    "        Get average success rate according to month\n",
    "        :params days: a list of days with format YYYY-MM-DD\n",
    "        :return\n",
    "            list(treeDict): a list of month\n",
    "            list(treeDict.values()): a list of success rate correspond to the month \n",
    "        formula: \n",
    "            number of success in month / number of trees in month\n",
    "        \"\"\"\n",
    "        treeDict = {}  # use a dict to count trees, format with date: [succ, total]\n",
    "        for day in days:\n",
    "            countTree, successTree, _ = self.successInDay(day)\n",
    "            month = '-'.join(day.split('-')[:-1])\n",
    "            if month not in treeDict:\n",
    "                treeDict[month] = [successTree, countTree]\n",
    "            else:\n",
    "                treeDict[month][0] += successTree\n",
    "                treeDict[month][1] += countTree\n",
    "        # calculate success rate\n",
    "        for key, value in treeDict.items():\n",
    "            successRate = round((value[0]/value[1])*100, 2) if value[1] != 0 else 0.0\n",
    "            treeDict[key] = successRate\n",
    "        return list(treeDict), list(treeDict.values())  # month, success rate\n",
    "        \n",
    "    \n",
    "        \n",
    "s = SuccessAnalysis(df)\n",
    "# _ = s.successInDay(date='2020-05-01',showResult=True)  # analyse a specific date success situation\n",
    "\n",
    "days, succ = s.successInTimePeriod()\n",
    "Chart.pltChart(Chart, days, succ, 'bar')  # plot success rate in days\n",
    "\n",
    "mon, succMon = s.aveSucRate(days)\n",
    "Chart.pltChart(Chart, mon, succMon, 'line')  # plot success rate in months"
   ]
  },
  {
   "cell_type": "code",
   "execution_count": 318,
   "metadata": {},
   "outputs": [
    {
     "name": "stdout",
     "output_type": "stream",
     "text": [
      "Input a time of period (Input month with ENTER)\n",
      "ONLY week / month / quarter / half a year / year ARE SUPPORTED: \n"
     ]
    },
    {
     "data": {
      "image/png": "[encoded data removed]",
      "text/plain": [
       "<Figure size 1080x720 with 1 Axes>"
      ]
     },
     "metadata": {
      "needs_background": "light"
     },
     "output_type": "display_data"
    }
   ],
   "source": [
    "class PlantTimeAnalysis:\n",
    "    def __init__(self, df):\n",
    "        self.df = df\n",
    "        self.t = Time()\n",
    "    \n",
    "    \n",
    "    def plantTimeInDay(self, date, inSecond=False):\n",
    "        \"\"\"\n",
    "        Get a specific day plant time in hours\n",
    "        :params \n",
    "            date: a date with YYYY-MM-DD format\n",
    "            inSecond: a bool to decide second or hour\n",
    "        :return plantTime: a float type number\n",
    "        \"\"\"\n",
    "        plantTime = 0  # total plant time in a day\n",
    "        timeInterval1, timeInterval2, timeInterval3 = {}, {}, {} # use dict to store time interval  \n",
    "        \n",
    "        \"\"\"\n",
    "        https://blog.csdn.net/chihwei_hsu/article/details/81604455\n",
    "        type 1. date in both start and end time \n",
    "        type 2. date in start time but not in end time\n",
    "        type 3. date not in start time but in end time\n",
    "        \"\"\"        \n",
    "        boolType1 = self.df['Start Time'].str.contains(date) & self.df['End Time'].str.contains(date)\n",
    "        boolType2 = self.df['Start Time'].str.contains(date) & ~self.df['End Time'].str.contains(date)\n",
    "        boolType3 = ~self.df['Start Time'].str.contains(date) & self.df['End Time'].str.contains(date)\n",
    "        \n",
    "        dfType1, dfType2, dfType3 = self.df[boolType1], self.df[boolType2], self.df[boolType3]\n",
    "        \n",
    "        for index, row in dfType1.iterrows():\n",
    "            timeInterval1[row['Start Time'].split('.')[0]] = row['End Time'].split('.')[0]\n",
    "        for index, row in dfType2.iterrows():\n",
    "            nextDate = 'T'.join(str(self.t.getNearDate(row['Start Time'].split('T')[0], previous=False)).split())\n",
    "            timeInterval2[row['Start Time'].split('.')[0]] = nextDate\n",
    "        for index, row in dfType3.iterrows():\n",
    "            previousDate = 'T'.join(str(self.t.getNearDate(row['Start Time'].split('T')[0])).split())\n",
    "            timeInterval3[row['Start Time'].split('.')[0]] = previousDate\n",
    "        \n",
    "        # get total plant time\n",
    "        for key, value in timeInterval1.items():\n",
    "            plantTime += self.t.getTimeInterval(key, value)\n",
    "        for key, value in timeInterval2.items():\n",
    "            plantTime += self.t.getTimeInterval(key, value)\n",
    "        for key, value in timeInterval2.items():\n",
    "            plantTime += self.t.getTimeInterval(key, value)\n",
    "            \n",
    "        return plantTime if inSecond else self.t.second2hour(plantTime)\n",
    "        \n",
    "        \n",
    "    def plantTimeInPeriod(self):\n",
    "        \"\"\"Plant time in a period of time\"\"\"\n",
    "        # input period of time \n",
    "        timePeriod = input(\n",
    "            'Input a time of period (Input month with ENTER)\\n'\n",
    "            'ONLY week / month / quarter / half a year / year ARE SUPPORTED: '\n",
    "            ).strip() or 'month'  # month as default\n",
    "        plantTimeDict = {}  # a dict is used to store date and plant time \n",
    "        \n",
    "        if timePeriod not in Time.periodDict.keys(): \n",
    "            raise NameError ('The Input Name Is Error, Please Input Again.')\n",
    "        \n",
    "        periodInDays = Time.periodDict[timePeriod]\n",
    "        pastDate = self.t.getPastDate(periodInDays)\n",
    "        dateList = self.t.getDateList(pastDate, Time.localDate)\n",
    "        for date in dateList:\n",
    "            plantTimeDict[date] = self.plantTimeInDay(date)\n",
    "        return list(plantTimeDict.keys()), list(plantTimeDict.values())\n",
    "        \n",
    "        \n",
    "        \n",
    "p = PlantTimeAnalysis(df)\n",
    "\n",
    "# plantDayTime = p.plantTimeInDay('2019-01-13')  # get plant time in the specific date\n",
    "# print(plantDayTime)\n",
    "\n",
    "days, times = p.plantTimeInPeriod()\n",
    "Chart.pltChart(Chart, days, times, chartType='bar')"
   ]
  },
  {
   "cell_type": "code",
   "execution_count": 238,
   "metadata": {},
   "outputs": [],
   "source": [
    "class TypeAnalysis:\n",
    "    pass  # TODO: tree type analysis"
   ]
  },
  {
   "cell_type": "code",
   "execution_count": 239,
   "metadata": {},
   "outputs": [],
   "source": [
    "class TagAnalysis:\n",
    "    pass  # TODO: tag analysis"
   ]
  },
  {
   "cell_type": "code",
   "execution_count": 278,
   "metadata": {},
   "outputs": [
    {
     "name": "stdout",
     "output_type": "stream",
     "text": [
      "14.14\n"
     ]
    }
   ],
   "source": [
    "t = Time()\n",
    "print(t.second2hour(51297.0))"
   ]
  },
  {
   "cell_type": "code",
   "execution_count": 297,
   "metadata": {},
   "outputs": [
    {
     "name": "stdout",
     "output_type": "stream",
     "text": [
      "True\n"
     ]
    }
   ],
   "source": [
    "print('week' in Time.periodDict.keys())"
   ]
  },
  {
   "cell_type": "code",
   "execution_count": null,
   "metadata": {},
   "outputs": [],
   "source": []
  }
 ],
 "metadata": {
  "kernelspec": {
   "display_name": "Python 3",
   "language": "python",
   "name": "python3"
  },
  "language_info": {
   "codemirror_mode": {
    "name": "ipython",
    "version": 3
   },
   "file_extension": ".py",
   "mimetype": "text/x-python",
   "name": "python",
   "nbconvert_exporter": "python",
   "pygments_lexer": "ipython3",
   "version": "3.7.4"
  }
 },
 "nbformat": 4,
 "nbformat_minor": 2
}
